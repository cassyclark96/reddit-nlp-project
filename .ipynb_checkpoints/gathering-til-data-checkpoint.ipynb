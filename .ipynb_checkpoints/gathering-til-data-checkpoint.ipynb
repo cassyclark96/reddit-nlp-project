{
 "cells": [
  {
   "cell_type": "markdown",
   "metadata": {},
   "source": [
    "# Gathering Posts From the Subreddit ShowerThoughts"
   ]
  },
  {
   "cell_type": "code",
   "execution_count": 1,
   "metadata": {},
   "outputs": [],
   "source": [
    "#import usefull libraries\n",
    "import pandas as pd   \n",
    "import requests  \n",
    "import time\n",
    "import datetime"
   ]
  },
  {
   "cell_type": "code",
   "execution_count": 2,
   "metadata": {},
   "outputs": [],
   "source": [
    "#create empty list for posts\n",
    "posts = []\n",
    "\n",
    "#create an empty list to keep track of post times so we don't get duplicates\n",
    "skip = [1600460524]"
   ]
  },
  {
   "cell_type": "code",
   "execution_count": 3,
   "metadata": {},
   "outputs": [],
   "source": [
    "def post_pulls(subreddit):\n",
    "    #count to keep track of how many posts we've pulled\n",
    "    count = 0\n",
    "    \n",
    "    #since we are doing 100 pulls at a time, we can stop once the count hits 90\n",
    "    while count < 90:\n",
    "        \n",
    "        #set up search paramters for requests\n",
    "        pull_params = {'subreddit': subreddit,\n",
    "                       'size': 100,\n",
    "                       'sort': 'desc',\n",
    "                       'aggs': 'created_utc',\n",
    "                       'before': skip[-1]}\n",
    "        \n",
    "        #create url\n",
    "        url = f'https://api.pushshift.io/reddit/submission/search/'\n",
    "        \n",
    "        #get requests\n",
    "        res = requests.get(url, params=pull_params)\n",
    "    \n",
    "        #turn into json dictionary format\n",
    "        data = res.json()\n",
    "              \n",
    "        #add pulls to post list\n",
    "        posts.extend(data['data'])\n",
    "           \n",
    "        #add count\n",
    "        count += 1\n",
    "        \n",
    "        #create dataframe for post list\n",
    "        til_data = pd.DataFrame(posts)[['author', 'title', 'subreddit', 'created_utc']]\n",
    "\n",
    "        #save data frame as csv to be called back in to update\n",
    "        til_data.to_csv('./data/til_data.csv', index=False)\n",
    "        \n",
    "        #create data frame to hold new posts\n",
    "        post_data = pd.DataFrame(posts)[['author', 'title', 'subreddit', 'created_utc']]\n",
    "        \n",
    "        #merge two data frames together\n",
    "        frames = [til_data, post_data]\n",
    "        result = pd.concat(frames)\n",
    "        result = result.drop_duplicates(subset='title')\n",
    "        \n",
    "        #save updated shower_data file\n",
    "        result.to_csv('./data/til_data.csv', index=False)\n",
    "        \n",
    "        #get the last pulls time tag and append to \n",
    "        skip.append(result['created_utc'].min())\n",
    "            \n",
    "        print(f'This is pull {count} out of 90')\n",
    "    \n",
    "        #set sleep timer for 30 seconds so I don't get banned\n",
    "        time.sleep(30)"
   ]
  },
  {
   "cell_type": "code",
   "execution_count": 8,
   "metadata": {},
   "outputs": [],
   "source": [
    "#uncomment to pull requests. It errored out on 58 out of 90 so to clean up notebook I commented it out. \n",
    "    #The data frame contains over 5000 so this is okay\n",
    "#post_pulls('todayilearned')\n"
   ]
  },
  {
   "cell_type": "code",
   "execution_count": 5,
   "metadata": {},
   "outputs": [],
   "source": [
    "til_data = pd.read_csv('./data/til_data.csv')"
   ]
  },
  {
   "cell_type": "code",
   "execution_count": 6,
   "metadata": {},
   "outputs": [
    {
     "data": {
      "text/html": [
       "<div>\n",
       "<style scoped>\n",
       "    .dataframe tbody tr th:only-of-type {\n",
       "        vertical-align: middle;\n",
       "    }\n",
       "\n",
       "    .dataframe tbody tr th {\n",
       "        vertical-align: top;\n",
       "    }\n",
       "\n",
       "    .dataframe thead th {\n",
       "        text-align: right;\n",
       "    }\n",
       "</style>\n",
       "<table border=\"1\" class=\"dataframe\">\n",
       "  <thead>\n",
       "    <tr style=\"text-align: right;\">\n",
       "      <th></th>\n",
       "      <th>author</th>\n",
       "      <th>title</th>\n",
       "      <th>subreddit</th>\n",
       "      <th>created_utc</th>\n",
       "    </tr>\n",
       "  </thead>\n",
       "  <tbody>\n",
       "    <tr>\n",
       "      <th>0</th>\n",
       "      <td>KarenTookTheKids4298</td>\n",
       "      <td>TIL that the last wooly mammoths died 4000 yea...</td>\n",
       "      <td>todayilearned</td>\n",
       "      <td>1600460370</td>\n",
       "    </tr>\n",
       "    <tr>\n",
       "      <th>1</th>\n",
       "      <td>kenf25</td>\n",
       "      <td>TIL that Albert Einstein was part of the NAACP...</td>\n",
       "      <td>todayilearned</td>\n",
       "      <td>1600460047</td>\n",
       "    </tr>\n",
       "    <tr>\n",
       "      <th>2</th>\n",
       "      <td>UnreasonablyEdgy</td>\n",
       "      <td>TIL about the Overton Window, which is “the ra...</td>\n",
       "      <td>todayilearned</td>\n",
       "      <td>1600460012</td>\n",
       "    </tr>\n",
       "    <tr>\n",
       "      <th>3</th>\n",
       "      <td>LuLo42</td>\n",
       "      <td>TIL Czech Republic is the most non-religious c...</td>\n",
       "      <td>todayilearned</td>\n",
       "      <td>1600460001</td>\n",
       "    </tr>\n",
       "    <tr>\n",
       "      <th>4</th>\n",
       "      <td>[deleted]</td>\n",
       "      <td>TIL that the US Marines that lowered the flags...</td>\n",
       "      <td>todayilearned</td>\n",
       "      <td>1600459907</td>\n",
       "    </tr>\n",
       "    <tr>\n",
       "      <th>...</th>\n",
       "      <td>...</td>\n",
       "      <td>...</td>\n",
       "      <td>...</td>\n",
       "      <td>...</td>\n",
       "    </tr>\n",
       "    <tr>\n",
       "      <th>5494</th>\n",
       "      <td>lionelgobgob</td>\n",
       "      <td>TIL of an Australian circus family wrongly cha...</td>\n",
       "      <td>todayilearned</td>\n",
       "      <td>1599371309</td>\n",
       "    </tr>\n",
       "    <tr>\n",
       "      <th>5495</th>\n",
       "      <td>ABM_</td>\n",
       "      <td>TIL The U.S. Military Emits More CO2 Than Enti...</td>\n",
       "      <td>todayilearned</td>\n",
       "      <td>1599370538</td>\n",
       "    </tr>\n",
       "    <tr>\n",
       "      <th>5496</th>\n",
       "      <td>viraldigger4488</td>\n",
       "      <td>HOW TO KNOW FIRST SIGNS OF PREGNANCY</td>\n",
       "      <td>todayilearned</td>\n",
       "      <td>1599370510</td>\n",
       "    </tr>\n",
       "    <tr>\n",
       "      <th>5497</th>\n",
       "      <td>princey12</td>\n",
       "      <td>TIL The Charlie in the famous newspaper title ...</td>\n",
       "      <td>todayilearned</td>\n",
       "      <td>1599370392</td>\n",
       "    </tr>\n",
       "    <tr>\n",
       "      <th>5498</th>\n",
       "      <td>princey12</td>\n",
       "      <td>TIL In 2015, Turkish newspaper Cumhuriyet publ...</td>\n",
       "      <td>todayilearned</td>\n",
       "      <td>1599370314</td>\n",
       "    </tr>\n",
       "  </tbody>\n",
       "</table>\n",
       "<p>5499 rows × 4 columns</p>\n",
       "</div>"
      ],
      "text/plain": [
       "                    author                                              title  \\\n",
       "0     KarenTookTheKids4298  TIL that the last wooly mammoths died 4000 yea...   \n",
       "1                   kenf25  TIL that Albert Einstein was part of the NAACP...   \n",
       "2         UnreasonablyEdgy  TIL about the Overton Window, which is “the ra...   \n",
       "3                   LuLo42  TIL Czech Republic is the most non-religious c...   \n",
       "4                [deleted]  TIL that the US Marines that lowered the flags...   \n",
       "...                    ...                                                ...   \n",
       "5494          lionelgobgob  TIL of an Australian circus family wrongly cha...   \n",
       "5495                  ABM_  TIL The U.S. Military Emits More CO2 Than Enti...   \n",
       "5496       viraldigger4488               HOW TO KNOW FIRST SIGNS OF PREGNANCY   \n",
       "5497             princey12  TIL The Charlie in the famous newspaper title ...   \n",
       "5498             princey12  TIL In 2015, Turkish newspaper Cumhuriyet publ...   \n",
       "\n",
       "          subreddit  created_utc  \n",
       "0     todayilearned   1600460370  \n",
       "1     todayilearned   1600460047  \n",
       "2     todayilearned   1600460012  \n",
       "3     todayilearned   1600460001  \n",
       "4     todayilearned   1600459907  \n",
       "...             ...          ...  \n",
       "5494  todayilearned   1599371309  \n",
       "5495  todayilearned   1599370538  \n",
       "5496  todayilearned   1599370510  \n",
       "5497  todayilearned   1599370392  \n",
       "5498  todayilearned   1599370314  \n",
       "\n",
       "[5499 rows x 4 columns]"
      ]
     },
     "execution_count": 6,
     "metadata": {},
     "output_type": "execute_result"
    }
   ],
   "source": [
    "til_data"
   ]
  },
  {
   "cell_type": "code",
   "execution_count": 7,
   "metadata": {},
   "outputs": [
    {
     "data": {
      "text/plain": [
       "0"
      ]
     },
     "execution_count": 7,
     "metadata": {},
     "output_type": "execute_result"
    }
   ],
   "source": [
    "til_data.duplicated().sum()"
   ]
  },
  {
   "cell_type": "code",
   "execution_count": null,
   "metadata": {},
   "outputs": [],
   "source": []
  }
 ],
 "metadata": {
  "kernelspec": {
   "display_name": "Python 3",
   "language": "python",
   "name": "python3"
  }
 },
 "nbformat": 4,
 "nbformat_minor": 4
}
